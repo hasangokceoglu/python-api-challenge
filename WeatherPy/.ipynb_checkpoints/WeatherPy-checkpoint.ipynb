{
 "cells": [
  {
   "cell_type": "code",
   "execution_count": 37,
   "id": "f5f8084a",
   "metadata": {},
   "outputs": [],
   "source": [
    "# # Dependencies and Setup\n",
    "import matplotlib.pyplot as plt\n",
    "import pandas as pd\n",
    "import numpy as np\n",
    "import requests\n",
    "import time\n",
    "from scipy.stats import linregress\n",
    "\n",
    "# Impor the OpenWeatherMap API key\n",
    "from api_key import weather_api_key\n",
    "\n",
    "# Import citipy to determine the cities based on latitude and longitude\n",
    "from citipy import citipy"
   ]
  },
  {
   "cell_type": "markdown",
   "id": "1340e90f",
   "metadata": {},
   "source": [
    "# Generate the Cities List by Using the `citipy` Library"
   ]
  },
  {
   "cell_type": "code",
   "execution_count": 38,
   "id": "0aee034b",
   "metadata": {},
   "outputs": [
    {
     "name": "stdout",
     "output_type": "stream",
     "text": [
      "Number of cities in the list: 3\n"
     ]
    }
   ],
   "source": [
    "# Empty list for holding the latitude and longitude combinations\n",
    "lat_lngs = []\n",
    "\n",
    "# Empty list for holding the cities names\n",
    "cities = []\n",
    "\n",
    "\n",
    "# Range of latitudes and longitudes\n",
    "lat_range = (-90, 90)\n",
    "lng_range = (-180, 180)\n",
    "\n",
    "# Create a set of random lat and lng combinations\n",
    "lats = np.random.uniform(lat_range[0], lat_range[1], size=3)\n",
    "lngs = np.random.uniform(lng_range[0], lng_range[1], size=3)\n",
    "lat_lngs = zip(lats, lngs)\n",
    "\n",
    "# Identify nearest city for each lat, lng combination\n",
    "for lat_lng in lat_lngs:\n",
    "    city = citipy.nearest_city(lat_lng[0], lat_lng[1]).city_name\n",
    "    \n",
    "    # If the city is unique, then add it to a our cities list\n",
    "    if city not in cities:\n",
    "        cities.append(city)\n",
    "\n",
    "# Print the city count to confirm sufficient count\n",
    "print(f\"Number of cities in the list: {len(cities)}\")"
   ]
  },
  {
   "cell_type": "markdown",
   "id": "558296a3",
   "metadata": {},
   "source": [
    "## Requirement 1: Create Plots to Showcase the Relationship Between Weather Variables and Latitude\n",
    "\n",
    "### Use the OpenWeatherMap API to retrieve weather data from the cities list generated in the started code\n"
   ]
  },
  {
   "cell_type": "code",
   "execution_count": 52,
   "id": "07297381",
   "metadata": {},
   "outputs": [
    {
     "name": "stdout",
     "output_type": "stream",
     "text": [
      "Beginning Data Retrieval     \n",
      "-----------------------------\n",
      "http://api.openweathermap.org/data/2.5/weather?appid=f3facaf43659a250aaed9bdcc2e6dd0c&units=metric&q=aykhal\n",
      "Processing Record 1 of Set 1 | aykhal\n",
      "http://api.openweathermap.org/data/2.5/weather?appid=f3facaf43659a250aaed9bdcc2e6dd0c&units=metric&q=mataura\n",
      "Processing Record 2 of Set 1 | mataura\n",
      "http://api.openweathermap.org/data/2.5/weather?appid=f3facaf43659a250aaed9bdcc2e6dd0c&units=metric&q=boddam\n",
      "Processing Record 3 of Set 1 | boddam\n",
      "[{'City': 'aykhal', 'Lat': 66, 'Lng': 111.5, 'Max Temp': -15.17, 'Humidity': 89, 'Cloudiness': 100, 'Wind Speed': 10.58, 'Country': 'RU', 'Date': 1677924422}, {'City': 'mataura', 'Lat': -46.1927, 'Lng': 168.8643, 'Max Temp': 8.86, 'Humidity': 88, 'Cloudiness': 80, 'Wind Speed': 0.44, 'Country': 'NZ', 'Date': 1677924890}, {'City': 'boddam', 'Lat': 57.4667, 'Lng': -1.7833, 'Max Temp': 5.24, 'Humidity': 75, 'Cloudiness': 100, 'Wind Speed': 6.82, 'Country': 'GB', 'Date': 1677924948}]\n"
     ]
    }
   ],
   "source": [
    "# Set the API base URL\n",
    "url = \"http://api.openweathermap.org/data/2.5/weather?\"\n",
    "units = \"metric\"\n",
    "city_data=[]\n",
    "# Build partial query URL\n",
    "query_url = f\"{url}appid={weather_api_key}&units={units}&q=\"\n",
    "\n",
    "# Define an empty list to fetch the weather data for each city\n",
    "\n",
    "#city_data:[]\n",
    "\n",
    "#city_lat=[]\n",
    "#city_lng = []\n",
    "#city_max_temp = []\n",
    "#city_humidity = []\n",
    "#city_clouds = []\n",
    "#city_wind = []\n",
    "#city_country = []\n",
    "#city_date = []\n",
    "\n",
    "# Print to logger\n",
    "print(\"Beginning Data Retrieval     \")\n",
    "print(\"-----------------------------\")\n",
    "\n",
    "# Create counters\n",
    "record_count = 1\n",
    "set_count = 1\n",
    "\n",
    "# Loop through all the cities in our list to fetch weather data\n",
    "for i, city in enumerate(cities):\n",
    "        \n",
    "    # Group cities in sets of 50 for logging purposes\n",
    "    if (i % 50 == 0 and i >= 50):\n",
    "        set_count += 1\n",
    "        record_count = 0\n",
    "\n",
    "    # Create endpoint URL with each city\n",
    "    \n",
    "    city_url = query_url + city\n",
    "    print(city_url)\n",
    "    \n",
    "    # Log the url, record, and set numbers\n",
    "    print(\"Processing Record %s of Set %s | %s\" % (record_count, set_count, city))\n",
    "\n",
    "    # Add 1 to the record count\n",
    "    record_count += 1\n",
    "\n",
    "    \n",
    "    # Run an API request for each of the cities\n",
    "\n",
    "        # Parse the JSON and retrieve data\n",
    "    city_weather = requests.get(city_url).json()\n",
    "        \n",
    "        # Parse out latitude, longitude, max temp, humidity, cloudiness, wind speed, country, and date\n",
    "    city_lat = city_weather['coord']['lat']\n",
    "    city_lng = city_weather['coord']['lon']\n",
    "    city_max_temp = city_weather['main']['temp_max']\n",
    "    city_humidity = city_weather['main']['humidity']\n",
    "    city_clouds = city_weather['clouds']['all']\n",
    "    city_wind = city_weather['wind']['speed']\n",
    "    city_country = city_weather['sys']['country']\n",
    "    city_date = city_weather['dt']\n",
    "        \n",
    "       # Append the City information into city_data list\n",
    "    city_data.append({\"City\": city, \n",
    "                  \"Lat\": city_lat, \n",
    "                  \"Lng\": city_lng, \n",
    "                  \"Max Temp\": city_max_temp,\n",
    "                  \"Humidity\": city_humidity,\n",
    "                  \"Cloudiness\": city_clouds,\n",
    "                  \"Wind Speed\": city_wind,\n",
    "                  \"Country\": city_country,\n",
    "                  \"Date\": city_date})     \n",
    "     # If an error is experienced, skip the city\n",
    "\n",
    "print(city_data)"
   ]
  },
  {
   "cell_type": "code",
   "execution_count": null,
   "id": "56a32c06",
   "metadata": {},
   "outputs": [],
   "source": []
  },
  {
   "cell_type": "code",
   "execution_count": null,
   "id": "37c3c727",
   "metadata": {},
   "outputs": [],
   "source": []
  }
 ],
 "metadata": {
  "kernelspec": {
   "display_name": "Python 3 (ipykernel)",
   "language": "python",
   "name": "python3"
  },
  "language_info": {
   "codemirror_mode": {
    "name": "ipython",
    "version": 3
   },
   "file_extension": ".py",
   "mimetype": "text/x-python",
   "name": "python",
   "nbconvert_exporter": "python",
   "pygments_lexer": "ipython3",
   "version": "3.9.13"
  }
 },
 "nbformat": 4,
 "nbformat_minor": 5
}
